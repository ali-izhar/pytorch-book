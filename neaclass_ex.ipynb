{
 "cells": [
  {
   "cell_type": "code",
   "execution_count": null,
   "id": "228f5af7-b9c8-4a1e-9abd-35a6e1b6d8d2",
   "metadata": {
    "id": "228f5af7-b9c8-4a1e-9abd-35a6e1b6d8d2"
   },
   "outputs": [],
   "source": [
    "import torch"
   ]
  },
  {
   "cell_type": "code",
   "execution_count": null,
   "id": "oEZsVgC01Tsc",
   "metadata": {
    "id": "oEZsVgC01Tsc"
   },
   "outputs": [],
   "source": [
    "from google.colab import drive\n",
    "drive.mount('/content/drive')"
   ]
  },
  {
   "cell_type": "code",
   "execution_count": null,
   "id": "YkMQ0b0_1edO",
   "metadata": {
    "id": "YkMQ0b0_1edO"
   },
   "outputs": [],
   "source": [
    "!git clone https://github.com/skokalj/RowanDLclassNEA.git"
   ]
  },
  {
   "cell_type": "code",
   "execution_count": null,
   "id": "RZ6zeuAN2GM5",
   "metadata": {
    "id": "RZ6zeuAN2GM5"
   },
   "outputs": [],
   "source": [
    "%cd RowanDLclassNEA/"
   ]
  },
  {
   "cell_type": "code",
   "execution_count": null,
   "id": "qtn7tDwnNKct",
   "metadata": {
    "id": "qtn7tDwnNKct"
   },
   "outputs": [],
   "source": [
    "!ls NEUdata/Cr"
   ]
  },
  {
   "cell_type": "code",
   "execution_count": null,
   "id": "90xnaLETKbKx",
   "metadata": {
    "id": "90xnaLETKbKx"
   },
   "outputs": [],
   "source": [
    "!ls"
   ]
  },
  {
   "cell_type": "code",
   "execution_count": null,
   "id": "3b2f1fd4-b6b0-4330-af80-24f4624e3393",
   "metadata": {
    "id": "3b2f1fd4-b6b0-4330-af80-24f4624e3393"
   },
   "outputs": [],
   "source": [
    "import os\n",
    "from PIL import Image\n",
    "from torchvision import transforms\n",
    "from torchvision.datasets import DatasetFolder\n",
    "import cv2\n",
    "import numpy as np\n",
    "\n",
    "str =\"/content/RowanDLclassNEA/NEUdata/Cr/Cr_10.bmp\"\n",
    "test_image = cv2.imread(str)\n",
    "type(test_image)\n",
    "\n"
   ]
  },
  {
   "cell_type": "code",
   "execution_count": null,
   "id": "E4_WyiOHTXvF",
   "metadata": {
    "id": "E4_WyiOHTXvF"
   },
   "outputs": [],
   "source": [
    "def load_image(img_path:str):\n",
    "  test_image = cv2.imread(str)\n",
    "  return test_image\n",
    "\n",
    "dset = DatasetFolder(root='NEUdata', loader = load_image, extensions = ('.bmp',))\n"
   ]
  },
  {
   "cell_type": "code",
   "execution_count": null,
   "id": "261970e1-3ee3-46ad-85ac-c2f071aea6b3",
   "metadata": {
    "id": "261970e1-3ee3-46ad-85ac-c2f071aea6b3"
   },
   "outputs": [],
   "source": [
    "len(dset)"
   ]
  },
  {
   "cell_type": "code",
   "execution_count": null,
   "id": "770c887a-22cf-47ac-86fd-c1654d065042",
   "metadata": {
    "id": "770c887a-22cf-47ac-86fd-c1654d065042"
   },
   "outputs": [],
   "source": [
    "dset[0][0]"
   ]
  },
  {
   "cell_type": "code",
   "execution_count": null,
   "id": "030bfd4e-ba02-4ee0-a0ba-73b128dcfada",
   "metadata": {
    "id": "030bfd4e-ba02-4ee0-a0ba-73b128dcfada"
   },
   "outputs": [],
   "source": [
    "data, label = dset[0]\n",
    "print(type(data))"
   ]
  },
  {
   "cell_type": "code",
   "execution_count": null,
   "id": "c9ac283a-9708-4f30-8119-73a45e500e3d",
   "metadata": {
    "id": "c9ac283a-9708-4f30-8119-73a45e500e3d"
   },
   "outputs": [],
   "source": [
    "print(data)"
   ]
  },
  {
   "cell_type": "markdown",
   "id": "cae08c8c-7d7b-4c7a-b1d6-9f0c53a83873",
   "metadata": {
    "id": "cae08c8c-7d7b-4c7a-b1d6-9f0c53a83873"
   },
   "source": [
    "#### I need to write transfrom to make it compatible with AlexNet"
   ]
  },
  {
   "cell_type": "code",
   "execution_count": null,
   "id": "4b7a2429-8769-459e-8fa2-d76ea098f7c7",
   "metadata": {
    "id": "4b7a2429-8769-459e-8fa2-d76ea098f7c7"
   },
   "outputs": [],
   "source": [
    "from torchvision import transforms\n",
    "\n",
    "transform = transforms.Compose([\n",
    "  transforms.Resize(256),\n",
    "  transforms.CenterCrop(224),\n",
    "  transforms.ToTensor(),\n",
    "  transforms.Normalize(\n",
    "      mean=[0.485, 0.456, 0.406],\n",
    "      std=[0.229, 0.224, 0.225])])\n",
    "\n",
    "dset = DatasetFolder(root='NEUdata', loader = load_image, extensions = ('.bmp',), transform = transform)"
   ]
  },
  {
   "cell_type": "code",
   "execution_count": null,
   "id": "5c626d8b-e903-4570-84a6-98ab02b6599d",
   "metadata": {
    "id": "5c626d8b-e903-4570-84a6-98ab02b6599d"
   },
   "outputs": [],
   "source": [
    "from torch.utils.data import random_split\n",
    "\n",
    "train_set, val_set = random_split(\n",
    "                      dset,\n",
    "                      [1200, 600])\n",
    "\n",
    "trainloader = torch.utils.data.DataLoader(\n",
    "                    train_set,\n",
    "                    batch_size=16,\n",
    "                    shuffle=True)\n",
    "\n",
    "valloader = torch.utils.data.DataLoader(\n",
    "                    val_set,\n",
    "                    batch_size=16,\n",
    "                    shuffle=True)\n",
    "\n",
    "print(len(trainloader))\n",
    "# out: 2500\n",
    "print(len(valloader))\n",
    "# out: 625"
   ]
  },
  {
   "cell_type": "code",
   "execution_count": null,
   "id": "225b3d92-faf6-4caf-b3b1-9a747f2cb4d7",
   "metadata": {
    "id": "225b3d92-faf6-4caf-b3b1-9a747f2cb4d7"
   },
   "outputs": [],
   "source": [
    "dd,ll = next(iter(trainloader))"
   ]
  },
  {
   "cell_type": "markdown",
   "id": "2L571KlC3n3s",
   "metadata": {
    "id": "2L571KlC3n3s"
   },
   "source": [
    "Let's try again: if numpy array returned by load_image is not acceptable, what is?\n",
    "What is the format of the images we used to build datasets so far?"
   ]
  },
  {
   "cell_type": "code",
   "execution_count": null,
   "id": "x5uxwshT3m6p",
   "metadata": {
    "id": "x5uxwshT3m6p"
   },
   "outputs": [],
   "source": [
    "def load_image(img_path:str):\n",
    "        np_img = cv2.imread(img_path) #CV2 to open and convert BMP mages into NUMPY\n",
    "        \n",
    "        return ???  #we need Image for the transforms to work correctly\n",
    "\n",
    "dset = DatasetFolder(root='NEUdata', loader = load_image, extensions = ('.bmp',))\n"
   ]
  },
  {
   "cell_type": "code",
   "execution_count": null,
   "id": "93gG-WamISv1",
   "metadata": {
    "id": "93gG-WamISv1"
   },
   "outputs": [],
   "source": [
    "data, label = dset[0]\n",
    "print(type(data))\n",
    "print(data)"
   ]
  },
  {
   "cell_type": "code",
   "execution_count": null,
   "id": "0r0IBkqnIfKw",
   "metadata": {
    "id": "0r0IBkqnIfKw"
   },
   "outputs": [],
   "source": [
    "dset = DatasetFolder(root='NEUdata', loader = load_image, extensions = ('.bmp',), transform = transform)\n",
    "train_set, val_set = random_split(\n",
    "                      dset,\n",
    "                      [1200, 600])\n",
    "\n",
    "trainloader = torch.utils.data.DataLoader(\n",
    "                    train_set,\n",
    "                    batch_size=16,\n",
    "                    shuffle=True)\n",
    "\n",
    "valloader = torch.utils.data.DataLoader(\n",
    "                    val_set,\n",
    "                    batch_size=16,\n",
    "                    shuffle=True)\n"
   ]
  },
  {
   "cell_type": "code",
   "execution_count": null,
   "id": "BJ4Q8uH8IssV",
   "metadata": {
    "id": "BJ4Q8uH8IssV"
   },
   "outputs": [],
   "source": [
    "dd,ll = next(iter(trainloader))"
   ]
  },
  {
   "cell_type": "code",
   "execution_count": null,
   "id": "46aed697-caf4-4b96-ac3f-2f4b033e9bd8",
   "metadata": {
    "id": "46aed697-caf4-4b96-ac3f-2f4b033e9bd8"
   },
   "outputs": [],
   "source": [
    "dd.shape"
   ]
  },
  {
   "cell_type": "code",
   "execution_count": null,
   "id": "8c0eba80-1b80-4b10-821a-bcf65537bb7d",
   "metadata": {
    "id": "8c0eba80-1b80-4b10-821a-bcf65537bb7d"
   },
   "outputs": [],
   "source": [
    "print(dd)"
   ]
  },
  {
   "cell_type": "code",
   "execution_count": null,
   "id": "dfc177fa-4ef9-43b6-ac5e-ab08db53b67d",
   "metadata": {
    "id": "dfc177fa-4ef9-43b6-ac5e-ab08db53b67d"
   },
   "outputs": [],
   "source": [
    "print(transform)"
   ]
  }
 ],
 "metadata": {
  "colab": {
   "provenance": []
  },
  "kernelspec": {
   "display_name": "ml",
   "language": "python",
   "name": "ml"
  },
  "language_info": {
   "codemirror_mode": {
    "name": "ipython",
    "version": 3
   },
   "file_extension": ".py",
   "mimetype": "text/x-python",
   "name": "python",
   "nbconvert_exporter": "python",
   "pygments_lexer": "ipython3",
   "version": "3.11.0"
  }
 },
 "nbformat": 4,
 "nbformat_minor": 5
}
