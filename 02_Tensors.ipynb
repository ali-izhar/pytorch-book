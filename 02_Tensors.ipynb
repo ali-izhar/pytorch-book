{
 "cells": [
  {
   "cell_type": "markdown",
   "metadata": {
    "id": "Y2fkP_np3Zpl"
   },
   "source": [
    "<!--BOOK_INFORMATION-->\n",
    "<img align=\"left\" style=\"width:80px;height:98px;padding-right:20px;\" src=\"https://raw.githubusercontent.com/joe-papa/pytorch-book/main/files/pytorch-book-cover.jpg\">\n",
    "\n",
    "This notebook contains an excerpt from the [PyTorch Pocket Reference](http://pytorchbook.com) book by [Joe Papa](http://joepapa.ai); content is available [on GitHub](https://github.com/joe-papa/pytorch-book)."
   ]
  },
  {
   "cell_type": "code",
   "execution_count": 1,
   "metadata": {},
   "outputs": [],
   "source": [
    "import numpy as np\n",
    "import matplotlib.pyplot as plt\n",
    "import torch"
   ]
  },
  {
   "cell_type": "code",
   "execution_count": 2,
   "metadata": {},
   "outputs": [
    {
     "data": {
      "text/plain": [
       "'2.1.2+cu121'"
      ]
     },
     "execution_count": 2,
     "metadata": {},
     "output_type": "execute_result"
    }
   ],
   "source": [
    "torch.__version__"
   ]
  },
  {
   "cell_type": "code",
   "execution_count": 3,
   "metadata": {},
   "outputs": [
    {
     "name": "stdout",
     "output_type": "stream",
     "text": [
      "cuda\n"
     ]
    }
   ],
   "source": [
    "device = torch.device(\"cuda\" if torch.cuda.is_available() else \"cpu\")\n",
    "print(device)"
   ]
  },
  {
   "cell_type": "markdown",
   "metadata": {},
   "source": [
    "## PyTorch Tensors\n",
    "<hr>\n",
    "\n",
    "Tensors are the fundamental data types of PyTorch. A tensor is a multi-dimensional matrix similar to Numpy's ndarrays:\n",
    "\n",
    "- A scalar can be represented as a zero-dimensional tensor.\n",
    "- A vector can be represented as a one-dimensional tensor.\n",
    "- ...\n",
    "\n",
    "<div style=\"text-align:center\">\n",
    "    <img src=\"images/tensor_intro.png\" width=500>\n",
    "    <center><caption><br><font color=\"purple\"><b><u>Figure 1:</u></b> Tensors of different shapes</font></caption></center>\n",
    "</div>"
   ]
  },
  {
   "cell_type": "code",
   "execution_count": 4,
   "metadata": {},
   "outputs": [],
   "source": [
    "x = torch.tensor([[1, 2]])    # 2D matrix of size: (1, 2)\n",
    "y = torch.tensor([[1], [2]])  # 2D matrix of size: (2, 1)\n",
    "z = torch.tensor([1, 2])      # 1D vector of size: (2,  )"
   ]
  },
  {
   "cell_type": "code",
   "execution_count": 5,
   "metadata": {},
   "outputs": [
    {
     "name": "stdout",
     "output_type": "stream",
     "text": [
      "torch.Size([1, 2])\n",
      "torch.Size([2, 1])\n",
      "torch.Size([2])\n"
     ]
    }
   ],
   "source": [
    "# tensor.shape OR tensor.size() to print the tensor's dimensions\n",
    "\n",
    "print(x.shape)\n",
    "print(y.shape)\n",
    "print(z.shape)"
   ]
  },
  {
   "cell_type": "code",
   "execution_count": 6,
   "metadata": {},
   "outputs": [],
   "source": [
    "zeros = torch.zeros((3, 4))   # 2D tensor of zeros of size: (3, 4)\n",
    "ones = torch.ones((2, 2))     # 2D tensor of ones of size: (2, 2)"
   ]
  },
  {
   "cell_type": "code",
   "execution_count": 7,
   "metadata": {},
   "outputs": [
    {
     "data": {
      "text/plain": [
       "tensor([[0., 0., 0., 0.],\n",
       "        [0., 0., 0., 0.],\n",
       "        [0., 0., 0., 0.]])"
      ]
     },
     "execution_count": 7,
     "metadata": {},
     "output_type": "execute_result"
    }
   ],
   "source": [
    "zeros"
   ]
  },
  {
   "cell_type": "code",
   "execution_count": 11,
   "metadata": {},
   "outputs": [
    {
     "name": "stdout",
     "output_type": "stream",
     "text": [
      "tensor([[4, 6, 7, 5],\n",
      "        [1, 3, 1, 1],\n",
      "        [4, 5, 8, 8]])\n"
     ]
    }
   ],
   "source": [
    "# x = 2D tensor of size (3, 4) containing random integers [0, 10)\n",
    "x = torch.randint(low=0, high=10, size=(3, 4))\n",
    "print(x)"
   ]
  },
  {
   "cell_type": "code",
   "execution_count": 67,
   "metadata": {},
   "outputs": [
    {
     "name": "stdout",
     "output_type": "stream",
     "text": [
      "tensor([[-0.1624, -1.0752, -0.2584,  1.0793],\n",
      "        [ 1.5542,  1.5877, -0.3448,  0.3777],\n",
      "        [-0.1208,  0.5605,  1.9917, -0.4709]])\n"
     ]
    }
   ],
   "source": [
    "# y = 2D tensor of size (3, 4) taken from the standard normal distribution\n",
    "y = torch.randn((3, 4))\n",
    "print(y)"
   ]
  },
  {
   "cell_type": "code",
   "execution_count": 68,
   "metadata": {},
   "outputs": [
    {
     "data": {
      "text/plain": [
       "'torch.FloatTensor'"
      ]
     },
     "execution_count": 68,
     "metadata": {},
     "output_type": "execute_result"
    }
   ],
   "source": [
    "y.type()"
   ]
  },
  {
   "cell_type": "code",
   "execution_count": 69,
   "metadata": {},
   "outputs": [],
   "source": [
    "y = y.type(torch.int32)"
   ]
  },
  {
   "cell_type": "code",
   "execution_count": 70,
   "metadata": {},
   "outputs": [
    {
     "data": {
      "text/plain": [
       "tensor([[ 0, -1,  0,  1],\n",
       "        [ 1,  1,  0,  0],\n",
       "        [ 0,  0,  1,  0]], dtype=torch.int32)"
      ]
     },
     "execution_count": 70,
     "metadata": {},
     "output_type": "execute_result"
    }
   ],
   "source": [
    "y"
   ]
  },
  {
   "cell_type": "code",
   "execution_count": 72,
   "metadata": {},
   "outputs": [
    {
     "data": {
      "text/plain": [
       "tensor([[ 0., -1.,  0.,  1.],\n",
       "        [ 1.,  1.,  0.,  0.],\n",
       "        [ 0.,  0.,  1.,  0.]], dtype=torch.float64)"
      ]
     },
     "execution_count": 72,
     "metadata": {},
     "output_type": "execute_result"
    }
   ],
   "source": [
    "# Use to() method to cast to a new type\n",
    "y = y.to(dtype=torch.float64)\n",
    "y"
   ]
  },
  {
   "cell_type": "markdown",
   "metadata": {},
   "source": [
    "### Casting Numpy Arrays into Torch Tensors\n",
    "\n",
    "- `torch.tensor()`\n",
    "- `torch.from_numpy()`"
   ]
  },
  {
   "cell_type": "code",
   "execution_count": 27,
   "metadata": {},
   "outputs": [
    {
     "name": "stdout",
     "output_type": "stream",
     "text": [
      "<class 'numpy.ndarray'> <class 'torch.Tensor'>\n"
     ]
    }
   ],
   "source": [
    "x = np.array([\n",
    "    [1, 2, 3],\n",
    "    [4, 5, 6],\n",
    "])\n",
    "\n",
    "y = torch.tensor(x)\n",
    "# y = torch.from_numpy(x)\n",
    "\n",
    "print(type(x), type(y))"
   ]
  },
  {
   "cell_type": "code",
   "execution_count": 28,
   "metadata": {},
   "outputs": [
    {
     "data": {
      "text/plain": [
       "tensor([[1, 2, 3],\n",
       "        [4, 5, 6]], dtype=torch.int32)"
      ]
     },
     "execution_count": 28,
     "metadata": {},
     "output_type": "execute_result"
    }
   ],
   "source": [
    "y"
   ]
  },
  {
   "cell_type": "markdown",
   "metadata": {},
   "source": [
    "### Operations on Tensors"
   ]
  },
  {
   "cell_type": "code",
   "execution_count": 32,
   "metadata": {},
   "outputs": [],
   "source": [
    "x = torch.tensor([\n",
    "    [1, 2, 3],\n",
    "    [4, 5, 6]\n",
    "])"
   ]
  },
  {
   "cell_type": "code",
   "execution_count": 37,
   "metadata": {},
   "outputs": [
    {
     "data": {
      "text/plain": [
       "tensor([[1, 2, 3],\n",
       "        [4, 5, 6]])"
      ]
     },
     "execution_count": 37,
     "metadata": {},
     "output_type": "execute_result"
    }
   ],
   "source": [
    "x"
   ]
  },
  {
   "cell_type": "code",
   "execution_count": 33,
   "metadata": {},
   "outputs": [
    {
     "name": "stdout",
     "output_type": "stream",
     "text": [
      "tensor([[10, 20, 30],\n",
      "        [40, 50, 60]])\n"
     ]
    }
   ],
   "source": [
    "print(x * 10)        # multiples tensor by 10"
   ]
  },
  {
   "cell_type": "code",
   "execution_count": 34,
   "metadata": {},
   "outputs": [
    {
     "name": "stdout",
     "output_type": "stream",
     "text": [
      "tensor([[11, 12, 13],\n",
      "        [14, 15, 16]])\n"
     ]
    }
   ],
   "source": [
    "print(x.add(10))     # adds 10 to the tensor elements"
   ]
  },
  {
   "cell_type": "code",
   "execution_count": 40,
   "metadata": {},
   "outputs": [],
   "source": [
    "y = x.view(3, 2)  # reshape x into tensor (3, 2)"
   ]
  },
  {
   "cell_type": "code",
   "execution_count": 41,
   "metadata": {},
   "outputs": [
    {
     "data": {
      "text/plain": [
       "tensor([[1, 2],\n",
       "        [3, 4],\n",
       "        [5, 6]])"
      ]
     },
     "execution_count": 41,
     "metadata": {},
     "output_type": "execute_result"
    }
   ],
   "source": [
    "y"
   ]
  },
  {
   "cell_type": "code",
   "execution_count": 42,
   "metadata": {},
   "outputs": [
    {
     "ename": "RuntimeError",
     "evalue": "shape '[4, -1]' is invalid for input of size 6",
     "output_type": "error",
     "traceback": [
      "\u001b[1;31m---------------------------------------------------------------------------\u001b[0m",
      "\u001b[1;31mRuntimeError\u001b[0m                              Traceback (most recent call last)",
      "Cell \u001b[1;32mIn[42], line 1\u001b[0m\n\u001b[1;32m----> 1\u001b[0m \u001b[38;5;28mprint\u001b[39m(\u001b[43mx\u001b[49m\u001b[38;5;241;43m.\u001b[39;49m\u001b[43mview\u001b[49m\u001b[43m(\u001b[49m\u001b[38;5;241;43m4\u001b[39;49m\u001b[43m,\u001b[49m\u001b[43m \u001b[49m\u001b[38;5;241;43m-\u001b[39;49m\u001b[38;5;241;43m1\u001b[39;49m\u001b[43m)\u001b[49m)  \u001b[38;5;66;03m# invalid because (3, 2) can't fit to (4, ?)\u001b[39;00m\n",
      "\u001b[1;31mRuntimeError\u001b[0m: shape '[4, -1]' is invalid for input of size 6"
     ]
    }
   ],
   "source": [
    "print(x.view(4, -1))  # invalid because (3, 2) can't fit to (4, ?)"
   ]
  },
  {
   "cell_type": "code",
   "execution_count": 43,
   "metadata": {},
   "outputs": [],
   "source": [
    "# another way to reshape a tensor is by using the `squeeze` method\n",
    "x = torch.randn(10, 1, 10)     # 3D tensor of size (10, 1, 10)\n",
    "\n",
    "# remove the dimension at index 1\n",
    "y = torch.squeeze(x, 1)        # 2D tensor of size (10, 10)\n",
    "# y = x.squeeze(1)"
   ]
  },
  {
   "cell_type": "code",
   "execution_count": 45,
   "metadata": {},
   "outputs": [
    {
     "name": "stdout",
     "output_type": "stream",
     "text": [
      "torch.Size([10, 1, 10])\n"
     ]
    }
   ],
   "source": [
    "# the opposite of `squeeze` is `unsqueeze` to add a dimension\n",
    "\n",
    "reverse_y = y.unsqueeze(1)    # add a new dimension at index 1, default index is 0\n",
    "print(reverse_y.shape)        # original y.shape=(10, 10); after adding dim, y.shape(10, 1, 10)"
   ]
  },
  {
   "cell_type": "code",
   "execution_count": 46,
   "metadata": {},
   "outputs": [
    {
     "name": "stdout",
     "output_type": "stream",
     "text": [
      "torch.Size([10, 10])\n",
      "torch.Size([1, 10, 10]) torch.Size([10, 1, 10]) torch.Size([10, 10, 1])\n"
     ]
    }
   ],
   "source": [
    "# unsqueezing can also be done using [None] indexing\n",
    "# adding None will auto-create a fake dimension at the specified axis\n",
    "\n",
    "x = torch.randn(10, 10)\n",
    "z1, z2, z3 = x[None], x[:,None], x[:,:,None]\n",
    "\n",
    "print(x.shape)\n",
    "print(z1.shape, z2.shape, z3.shape)"
   ]
  },
  {
   "cell_type": "code",
   "execution_count": 2,
   "metadata": {},
   "outputs": [
    {
     "name": "stdout",
     "output_type": "stream",
     "text": [
      "tensor([[17],\n",
      "        [39]])\n"
     ]
    }
   ],
   "source": [
    "# MATRIX MULTIPLICATION\n",
    "\n",
    "x = torch.tensor([[1, 2],[3, 4]])    # shape = (2, 2)\n",
    "y = torch.tensor([[5],[6]])          # shape = (2, 1)\n",
    "z = torch.matmul(x, y)\n",
    "print(z)"
   ]
  },
  {
   "cell_type": "code",
   "execution_count": 3,
   "metadata": {},
   "outputs": [
    {
     "name": "stdout",
     "output_type": "stream",
     "text": [
      "tensor([[17],\n",
      "        [39]])\n"
     ]
    }
   ],
   "source": [
    "# alternatively, multiplication can be performed as\n",
    "print(x @ y)"
   ]
  },
  {
   "cell_type": "code",
   "execution_count": 4,
   "metadata": {},
   "outputs": [],
   "source": [
    "batch = 10\n",
    "a = torch.rand(batch, 2, 3)\n",
    "b = torch.rand(batch, 3, 4)\n",
    "\n",
    "# batch matrix-matrix multiplication\n",
    "z = torch.bmm(a, b)"
   ]
  },
  {
   "cell_type": "code",
   "execution_count": 6,
   "metadata": {},
   "outputs": [
    {
     "data": {
      "text/plain": [
       "torch.Size([10, 2, 4])"
      ]
     },
     "execution_count": 6,
     "metadata": {},
     "output_type": "execute_result"
    }
   ],
   "source": [
    "z.shape"
   ]
  },
  {
   "cell_type": "code",
   "execution_count": 50,
   "metadata": {},
   "outputs": [
    {
     "name": "stdout",
     "output_type": "stream",
     "text": [
      "Cat axis 0: torch.Size([10, 10, 10]) torch.Size([20, 10, 10])\n"
     ]
    }
   ],
   "source": [
    "# CONCATENATION\n",
    "\n",
    "x = torch.randn(10, 10, 10)\n",
    "y = torch.cat([x, x], axis=0)\n",
    "\n",
    "print('Cat axis 0:', x.shape, y.shape)"
   ]
  },
  {
   "cell_type": "code",
   "execution_count": 54,
   "metadata": {},
   "outputs": [
    {
     "name": "stdout",
     "output_type": "stream",
     "text": [
      "tensor([[ 0,  1,  2,  3,  4],\n",
      "        [ 5,  6,  7,  8,  9],\n",
      "        [10, 11, 12, 13, 14],\n",
      "        [15, 16, 17, 18, 19],\n",
      "        [20, 21, 22, 23, 24]])\n",
      "Max: tensor(24)\n",
      "\n",
      "The maximum row (dim=0) is the following: (entries and the row number) \n",
      " torch.return_types.max(\n",
      "values=tensor([20, 21, 22, 23, 24]),\n",
      "indices=tensor([4, 4, 4, 4, 4]))\n",
      "\n",
      "The maximum col (dim=1) is the following: (entries and the col number) \n",
      " torch.return_types.max(\n",
      "values=tensor([ 4,  9, 14, 19, 24]),\n",
      "indices=tensor([4, 4, 4, 4, 4]))\n"
     ]
    }
   ],
   "source": [
    "# AGGREGATE FUNCTIONS\n",
    "\n",
    "x = torch.arange(25).reshape(5, 5)\n",
    "\n",
    "print(x)\n",
    "print('Max:', x.max())\n",
    "print('\\nThe maximum row (dim=0) is the following: (entries and the row number) \\n', x.max(dim=0))\n",
    "print('\\nThe maximum col (dim=1) is the following: (entries and the col number) \\n', x.max(dim=1))"
   ]
  },
  {
   "cell_type": "code",
   "execution_count": 55,
   "metadata": {},
   "outputs": [
    {
     "name": "stdout",
     "output_type": "stream",
     "text": [
      "Permute dimensions: torch.Size([10, 20, 30]) torch.Size([30, 10, 20])\n"
     ]
    }
   ],
   "source": [
    "# Permute the dimensions of a tensor object\n",
    "# if you need to swap dimensions, use permute and not view; although torch will not throw an error\n",
    "\n",
    "x = torch.randn(10, 20, 30)\n",
    "z = x.permute(2, 0, 1)\n",
    "print('Permute dimensions:', x.shape, z.shape)"
   ]
  },
  {
   "cell_type": "markdown",
   "metadata": {
    "id": "siupc0FJR0ma"
   },
   "source": [
    "### Moving Tensors between CPU & GPU"
   ]
  },
  {
   "cell_type": "code",
   "execution_count": 60,
   "metadata": {},
   "outputs": [
    {
     "data": {
      "text/plain": [
       "tensor([[ 8, 10, 12],\n",
       "        [ 8, 10, 12]], device='cuda:0')"
      ]
     },
     "execution_count": 60,
     "metadata": {},
     "output_type": "execute_result"
    }
   ],
   "source": [
    "x = torch.tensor([[1, 2, 3],[4, 5, 6]])\n",
    "y = torch.tensor([[7, 8, 9],[4, 5, 6]])\n",
    "\n",
    "x.to(device)\n",
    "y.to(device)\n",
    "\n",
    "z = x + y\n",
    "z.to(device)"
   ]
  },
  {
   "cell_type": "code",
   "execution_count": 61,
   "metadata": {},
   "outputs": [],
   "source": [
    "x = torch.tensor([[1, 2, 3],[4, 5, 6]], device=device)\n",
    "y = torch.tensor([[7, 8, 9],[4, 5, 6]], device=device)\n",
    "\n",
    "z = torch.add(x, y)"
   ]
  },
  {
   "cell_type": "code",
   "execution_count": 62,
   "metadata": {},
   "outputs": [
    {
     "data": {
      "text/plain": [
       "tensor([[ 8, 10, 12],\n",
       "        [ 8, 10, 12]], device='cuda:0')"
      ]
     },
     "execution_count": 62,
     "metadata": {},
     "output_type": "execute_result"
    }
   ],
   "source": [
    "z"
   ]
  },
  {
   "cell_type": "markdown",
   "metadata": {},
   "source": [
    "### Indexing"
   ]
  },
  {
   "cell_type": "code",
   "execution_count": 73,
   "metadata": {
    "colab": {
     "base_uri": "https://localhost:8080/"
    },
    "executionInfo": {
     "elapsed": 281,
     "status": "ok",
     "timestamp": 1612993669230,
     "user": {
      "displayName": "Joe Papa",
      "photoUrl": "",
      "userId": "00487850786587503652"
     },
     "user_tz": 300
    },
    "id": "YnLlmRdwTesO",
    "outputId": "adba42a9-f5da-454b-dc39-493d1518008b"
   },
   "outputs": [
    {
     "name": "stdout",
     "output_type": "stream",
     "text": [
      "tensor([[1, 2],\n",
      "        [3, 4],\n",
      "        [5, 6],\n",
      "        [7, 8]])\n"
     ]
    }
   ],
   "source": [
    "x = torch.tensor([[1,2],[3,4],[5,6],[7,8]])\n",
    "print(x)"
   ]
  },
  {
   "cell_type": "code",
   "execution_count": 74,
   "metadata": {},
   "outputs": [
    {
     "name": "stdout",
     "output_type": "stream",
     "text": [
      "tensor(4)\n",
      "4\n"
     ]
    }
   ],
   "source": [
    "# Indexing, returns a tensor\n",
    "print(x[1,1])\n",
    "\n",
    "# Indexing, returns value as Python number\n",
    "print(x[1,1].item())"
   ]
  },
  {
   "cell_type": "code",
   "execution_count": 75,
   "metadata": {
    "colab": {
     "base_uri": "https://localhost:8080/"
    },
    "executionInfo": {
     "elapsed": 237,
     "status": "ok",
     "timestamp": 1612993669909,
     "user": {
      "displayName": "Joe Papa",
      "photoUrl": "",
      "userId": "00487850786587503652"
     },
     "user_tz": 300
    },
    "id": "BouHJUe84a-g",
    "outputId": "085155a5-a11d-4478-fbdb-474fabf0243f"
   },
   "outputs": [
    {
     "name": "stdout",
     "output_type": "stream",
     "text": [
      "tensor([2, 4])\n",
      "tensor([1, 2, 3, 4])\n"
     ]
    }
   ],
   "source": [
    "# Slicing\n",
    "print(x[:2,1])\n",
    "\n",
    "# Boolean indexing: only keep elements less than 5\n",
    "print(x[x<5])"
   ]
  },
  {
   "cell_type": "code",
   "execution_count": 76,
   "metadata": {
    "colab": {
     "base_uri": "https://localhost:8080/"
    },
    "executionInfo": {
     "elapsed": 245,
     "status": "ok",
     "timestamp": 1612993670711,
     "user": {
      "displayName": "Joe Papa",
      "photoUrl": "",
      "userId": "00487850786587503652"
     },
     "user_tz": 300
    },
    "id": "4a2FDWWD4myP",
    "outputId": "898253dc-f7a0-4ed0-9278-c5c5dcf08bed"
   },
   "outputs": [
    {
     "name": "stdout",
     "output_type": "stream",
     "text": [
      "tensor([[1, 3, 5, 7],\n",
      "        [2, 4, 6, 8]])\n"
     ]
    }
   ],
   "source": [
    "# Transpose array, x.t() or x.T can be used\n",
    "print(x.T)"
   ]
  },
  {
   "cell_type": "code",
   "execution_count": 77,
   "metadata": {
    "colab": {
     "base_uri": "https://localhost:8080/"
    },
    "executionInfo": {
     "elapsed": 243,
     "status": "ok",
     "timestamp": 1612993671431,
     "user": {
      "displayName": "Joe Papa",
      "photoUrl": "",
      "userId": "00487850786587503652"
     },
     "user_tz": 300
    },
    "id": "jqXM3ECQ53_h",
    "outputId": "5c2af4fe-f1ca-4f29-e9e8-2d56d9eaf0c6"
   },
   "outputs": [
    {
     "name": "stdout",
     "output_type": "stream",
     "text": [
      "tensor([[[1, 2],\n",
      "         [3, 4],\n",
      "         [5, 6],\n",
      "         [7, 8]],\n",
      "\n",
      "        [[1, 2],\n",
      "         [3, 4],\n",
      "         [5, 6],\n",
      "         [7, 8]]])\n"
     ]
    }
   ],
   "source": [
    "# Combining tensors\n",
    "y = torch.stack((x, x))\n",
    "print(y)"
   ]
  },
  {
   "cell_type": "code",
   "execution_count": 78,
   "metadata": {},
   "outputs": [
    {
     "name": "stdout",
     "output_type": "stream",
     "text": [
      "tensor([1, 3, 5, 7]) tensor([2, 4, 6, 8])\n"
     ]
    }
   ],
   "source": [
    "# Splitting tensors\n",
    "a,b = x.unbind(dim=1)\n",
    "print(a,b)"
   ]
  },
  {
   "cell_type": "markdown",
   "metadata": {
    "id": "E6vwyrpvUPLE"
   },
   "source": [
    "### Automatic Differentiation (Autograd)"
   ]
  },
  {
   "cell_type": "code",
   "execution_count": 81,
   "metadata": {
    "scrolled": true
   },
   "outputs": [
    {
     "name": "stdout",
     "output_type": "stream",
     "text": [
      "tensor(91., grad_fn=<SumBackward0>)\n"
     ]
    },
    {
     "data": {
      "text/plain": [
       "tensor([[ 2.,  4.,  6.],\n",
       "        [ 8., 10., 12.]])"
      ]
     },
     "execution_count": 81,
     "metadata": {},
     "output_type": "execute_result"
    }
   ],
   "source": [
    "x = torch.tensor([[1,2,3],[4,5,6]], \n",
    "         dtype=torch.float, requires_grad=True)\n",
    "\n",
    "# let's define result as the sum of squares of the entries in x\n",
    "f = x.pow(2).sum()\n",
    "\n",
    "print(f)\n",
    "\n",
    "# the gradient of f=x^2 is 2x\n",
    "f.backward()\n",
    "\n",
    "x.grad"
   ]
  },
  {
   "cell_type": "markdown",
   "metadata": {},
   "source": [
    "## NumPy vs PyTorch\n",
    "<hr>\n",
    "\n",
    "While developing deep neural nets, we carry out tens of thousands of matrix multiplication operations that are time consuming as well as require a lot of computation. We use PyTorch tensors because they speed up the matrix multiplication process. Below is a comparison between NumPy Arrays with PyTorch Tensors."
   ]
  },
  {
   "cell_type": "code",
   "execution_count": 82,
   "metadata": {},
   "outputs": [],
   "source": [
    "x = torch.rand(1, 6400)\n",
    "y = torch.rand(6400, 5000)\n",
    "\n",
    "x, y = x.to(device), y.to(device)"
   ]
  },
  {
   "cell_type": "markdown",
   "metadata": {},
   "source": [
    "`x` and `y` are fairly big matrices. Time taken by $z=x \\times y$ as tensors on gpu is about **0.5ms**"
   ]
  },
  {
   "cell_type": "code",
   "execution_count": 83,
   "metadata": {},
   "outputs": [
    {
     "name": "stdout",
     "output_type": "stream",
     "text": [
      "502 µs ± 2.39 µs per loop (mean ± std. dev. of 7 runs, 1,000 loops each)\n"
     ]
    }
   ],
   "source": [
    "%timeit z = (x@y)"
   ]
  },
  {
   "cell_type": "markdown",
   "metadata": {},
   "source": [
    "Time taken by $z=x \\times y$ as tensors on cpu is **4.6ms**"
   ]
  },
  {
   "cell_type": "code",
   "execution_count": 84,
   "metadata": {},
   "outputs": [
    {
     "name": "stdout",
     "output_type": "stream",
     "text": [
      "4.6 ms ± 61.9 µs per loop (mean ± std. dev. of 7 runs, 100 loops each)\n"
     ]
    }
   ],
   "source": [
    "x, y = x.cpu(), y.cpu()\n",
    "\n",
    "%timeit z = (x@y)"
   ]
  },
  {
   "cell_type": "markdown",
   "metadata": {},
   "source": [
    "Time taken by $z=x \\times y$ as numpy arrays is **5.73ms**"
   ]
  },
  {
   "cell_type": "code",
   "execution_count": 85,
   "metadata": {},
   "outputs": [
    {
     "name": "stdout",
     "output_type": "stream",
     "text": [
      "5.73 ms ± 130 µs per loop (mean ± std. dev. of 7 runs, 100 loops each)\n"
     ]
    }
   ],
   "source": [
    "%timeit z = np.matmul(x, y)"
   ]
  }
 ],
 "metadata": {
  "accelerator": "GPU",
  "colab": {
   "authorship_tag": "ABX9TyMmZrwpk+TR0fSUOT0KmY+T",
   "collapsed_sections": [],
   "name": "02_Tensors.ipynb",
   "provenance": []
  },
  "kernelspec": {
   "display_name": "ml",
   "language": "python",
   "name": "ml"
  },
  "language_info": {
   "codemirror_mode": {
    "name": "ipython",
    "version": 3
   },
   "file_extension": ".py",
   "mimetype": "text/x-python",
   "name": "python",
   "nbconvert_exporter": "python",
   "pygments_lexer": "ipython3",
   "version": "3.11.0"
  }
 },
 "nbformat": 4,
 "nbformat_minor": 1
}
